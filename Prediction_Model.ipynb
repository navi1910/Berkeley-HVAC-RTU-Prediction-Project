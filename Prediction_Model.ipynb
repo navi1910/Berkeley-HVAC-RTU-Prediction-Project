{
 "cells": [
  {
   "cell_type": "code",
   "execution_count": 101,
   "metadata": {},
   "outputs": [],
   "source": [
    "# Imports\n",
    "import pandas as pd\n",
    "import numpy as np\n",
    "import matplotlib.pyplot as plt\n",
    "from sklearn.preprocessing import StandardScaler\n",
    "from sklearn.model_selection import train_test_split\n",
    "from sklearn.linear_model import LinearRegression, Lasso\n",
    "from sklearn.ensemble import RandomForestRegressor\n",
    "from sklearn.model_selection import GridSearchCV\n",
    "from sklearn.model_selection import cross_val_score\n",
    "from sklearn.metrics import mean_absolute_error\n",
    "import warnings\n",
    "warnings.filterwarnings('ignore')\n"
   ]
  },
  {
   "cell_type": "code",
   "execution_count": 78,
   "metadata": {},
   "outputs": [],
   "source": [
    "# Loading Data as Data Frame\n",
    "df = pd.read_csv('Viz-preprocessed.csv')"
   ]
  },
  {
   "cell_type": "code",
   "execution_count": 79,
   "metadata": {},
   "outputs": [
    {
     "data": {
      "text/html": [
       "<div>\n",
       "<style scoped>\n",
       "    .dataframe tbody tr th:only-of-type {\n",
       "        vertical-align: middle;\n",
       "    }\n",
       "\n",
       "    .dataframe tbody tr th {\n",
       "        vertical-align: top;\n",
       "    }\n",
       "\n",
       "    .dataframe thead th {\n",
       "        text-align: right;\n",
       "    }\n",
       "</style>\n",
       "<table border=\"1\" class=\"dataframe\">\n",
       "  <thead>\n",
       "    <tr style=\"text-align: right;\">\n",
       "      <th></th>\n",
       "      <th>Timestamp</th>\n",
       "      <th>RTU: Supply Air Temperature</th>\n",
       "      <th>RTU: Return Air Temperature</th>\n",
       "      <th>RTU: Circuit 1 Discharge Temperature</th>\n",
       "      <th>RTU: Circuit 1 Condenser Outlet Temperature</th>\n",
       "      <th>RTU: Circuit 1 Suction Temperature</th>\n",
       "      <th>RTU: Circuit 2 Discharge Temperature</th>\n",
       "      <th>RTU: Circuit 2 Suction Temperature</th>\n",
       "      <th>RTU: Circuit 1 Condenser Outlet Pressure</th>\n",
       "      <th>RTU: Circuit 1 Suction Pressure</th>\n",
       "      <th>...</th>\n",
       "      <th>VAV Box: Room 104 Air Temperature</th>\n",
       "      <th>VAV Box: Room 105 Air Temperature</th>\n",
       "      <th>VAV Box: Room 106 Air Temperature</th>\n",
       "      <th>VAV Box: Room 202 Air Temperature</th>\n",
       "      <th>VAV Box: Room 203 Air Temperature</th>\n",
       "      <th>VAV Box: Room 204 Air Temperature</th>\n",
       "      <th>VAV Box: Room 205 Air Temperature</th>\n",
       "      <th>VAV Box: Room 206 Air Temperature</th>\n",
       "      <th>AverageRoomTemp</th>\n",
       "      <th>AverageRoomHumi</th>\n",
       "    </tr>\n",
       "  </thead>\n",
       "  <tbody>\n",
       "    <tr>\n",
       "      <th>0</th>\n",
       "      <td>2017-08-27 06:43:00</td>\n",
       "      <td>63.7804</td>\n",
       "      <td>74.6834</td>\n",
       "      <td>92.2</td>\n",
       "      <td>75.87</td>\n",
       "      <td>58.50</td>\n",
       "      <td>75.88</td>\n",
       "      <td>70.92</td>\n",
       "      <td>-441.3</td>\n",
       "      <td>142.7</td>\n",
       "      <td>...</td>\n",
       "      <td>69.54</td>\n",
       "      <td>69.52</td>\n",
       "      <td>70.06</td>\n",
       "      <td>67.9134</td>\n",
       "      <td>69.22</td>\n",
       "      <td>69.79</td>\n",
       "      <td>69.47</td>\n",
       "      <td>70.09</td>\n",
       "      <td>74.62790</td>\n",
       "      <td>50.830000</td>\n",
       "    </tr>\n",
       "    <tr>\n",
       "      <th>1</th>\n",
       "      <td>2017-08-27 06:44:00</td>\n",
       "      <td>62.9200</td>\n",
       "      <td>74.6834</td>\n",
       "      <td>119.2</td>\n",
       "      <td>96.10</td>\n",
       "      <td>59.00</td>\n",
       "      <td>73.93</td>\n",
       "      <td>71.32</td>\n",
       "      <td>-381.0</td>\n",
       "      <td>161.6</td>\n",
       "      <td>...</td>\n",
       "      <td>67.77</td>\n",
       "      <td>67.92</td>\n",
       "      <td>68.94</td>\n",
       "      <td>67.3800</td>\n",
       "      <td>65.89</td>\n",
       "      <td>67.17</td>\n",
       "      <td>66.57</td>\n",
       "      <td>67.71</td>\n",
       "      <td>74.55256</td>\n",
       "      <td>50.973333</td>\n",
       "    </tr>\n",
       "    <tr>\n",
       "      <th>2</th>\n",
       "      <td>2017-08-27 06:45:00</td>\n",
       "      <td>61.0000</td>\n",
       "      <td>74.6834</td>\n",
       "      <td>133.7</td>\n",
       "      <td>106.30</td>\n",
       "      <td>55.05</td>\n",
       "      <td>73.54</td>\n",
       "      <td>71.47</td>\n",
       "      <td>-348.3</td>\n",
       "      <td>162.4</td>\n",
       "      <td>...</td>\n",
       "      <td>65.85</td>\n",
       "      <td>66.06</td>\n",
       "      <td>67.38</td>\n",
       "      <td>65.2200</td>\n",
       "      <td>63.40</td>\n",
       "      <td>64.95</td>\n",
       "      <td>64.24</td>\n",
       "      <td>65.58</td>\n",
       "      <td>74.43922</td>\n",
       "      <td>51.076667</td>\n",
       "    </tr>\n",
       "    <tr>\n",
       "      <th>3</th>\n",
       "      <td>2017-08-27 06:46:00</td>\n",
       "      <td>58.6900</td>\n",
       "      <td>74.5700</td>\n",
       "      <td>144.1</td>\n",
       "      <td>123.90</td>\n",
       "      <td>49.69</td>\n",
       "      <td>117.00</td>\n",
       "      <td>49.95</td>\n",
       "      <td>-267.1</td>\n",
       "      <td>158.6</td>\n",
       "      <td>...</td>\n",
       "      <td>64.25</td>\n",
       "      <td>64.39</td>\n",
       "      <td>65.91</td>\n",
       "      <td>63.3500</td>\n",
       "      <td>61.47</td>\n",
       "      <td>63.06</td>\n",
       "      <td>62.38</td>\n",
       "      <td>63.79</td>\n",
       "      <td>74.27986</td>\n",
       "      <td>51.173333</td>\n",
       "    </tr>\n",
       "    <tr>\n",
       "      <th>4</th>\n",
       "      <td>2017-08-27 06:47:00</td>\n",
       "      <td>56.9800</td>\n",
       "      <td>74.4600</td>\n",
       "      <td>157.1</td>\n",
       "      <td>130.10</td>\n",
       "      <td>50.53</td>\n",
       "      <td>160.80</td>\n",
       "      <td>50.92</td>\n",
       "      <td>-203.6</td>\n",
       "      <td>160.9</td>\n",
       "      <td>...</td>\n",
       "      <td>62.32</td>\n",
       "      <td>62.54</td>\n",
       "      <td>64.23</td>\n",
       "      <td>61.1200</td>\n",
       "      <td>59.18</td>\n",
       "      <td>60.93</td>\n",
       "      <td>60.27</td>\n",
       "      <td>61.78</td>\n",
       "      <td>74.00950</td>\n",
       "      <td>50.926667</td>\n",
       "    </tr>\n",
       "  </tbody>\n",
       "</table>\n",
       "<p>5 rows × 47 columns</p>\n",
       "</div>"
      ],
      "text/plain": [
       "             Timestamp  RTU: Supply Air Temperature  \\\n",
       "0  2017-08-27 06:43:00                      63.7804   \n",
       "1  2017-08-27 06:44:00                      62.9200   \n",
       "2  2017-08-27 06:45:00                      61.0000   \n",
       "3  2017-08-27 06:46:00                      58.6900   \n",
       "4  2017-08-27 06:47:00                      56.9800   \n",
       "\n",
       "   RTU: Return Air Temperature  RTU: Circuit 1 Discharge Temperature  \\\n",
       "0                      74.6834                                  92.2   \n",
       "1                      74.6834                                 119.2   \n",
       "2                      74.6834                                 133.7   \n",
       "3                      74.5700                                 144.1   \n",
       "4                      74.4600                                 157.1   \n",
       "\n",
       "   RTU: Circuit 1 Condenser Outlet Temperature  \\\n",
       "0                                        75.87   \n",
       "1                                        96.10   \n",
       "2                                       106.30   \n",
       "3                                       123.90   \n",
       "4                                       130.10   \n",
       "\n",
       "   RTU: Circuit 1 Suction Temperature  RTU: Circuit 2 Discharge Temperature  \\\n",
       "0                               58.50                                 75.88   \n",
       "1                               59.00                                 73.93   \n",
       "2                               55.05                                 73.54   \n",
       "3                               49.69                                117.00   \n",
       "4                               50.53                                160.80   \n",
       "\n",
       "   RTU: Circuit 2 Suction Temperature  \\\n",
       "0                               70.92   \n",
       "1                               71.32   \n",
       "2                               71.47   \n",
       "3                               49.95   \n",
       "4                               50.92   \n",
       "\n",
       "   RTU: Circuit 1 Condenser Outlet Pressure  RTU: Circuit 1 Suction Pressure  \\\n",
       "0                                    -441.3                            142.7   \n",
       "1                                    -381.0                            161.6   \n",
       "2                                    -348.3                            162.4   \n",
       "3                                    -267.1                            158.6   \n",
       "4                                    -203.6                            160.9   \n",
       "\n",
       "   ...  VAV Box: Room 104 Air Temperature  VAV Box: Room 105 Air Temperature  \\\n",
       "0  ...                              69.54                              69.52   \n",
       "1  ...                              67.77                              67.92   \n",
       "2  ...                              65.85                              66.06   \n",
       "3  ...                              64.25                              64.39   \n",
       "4  ...                              62.32                              62.54   \n",
       "\n",
       "   VAV Box: Room 106 Air Temperature  VAV Box: Room 202 Air Temperature  \\\n",
       "0                              70.06                            67.9134   \n",
       "1                              68.94                            67.3800   \n",
       "2                              67.38                            65.2200   \n",
       "3                              65.91                            63.3500   \n",
       "4                              64.23                            61.1200   \n",
       "\n",
       "   VAV Box: Room 203 Air Temperature  VAV Box: Room 204 Air Temperature  \\\n",
       "0                              69.22                              69.79   \n",
       "1                              65.89                              67.17   \n",
       "2                              63.40                              64.95   \n",
       "3                              61.47                              63.06   \n",
       "4                              59.18                              60.93   \n",
       "\n",
       "   VAV Box: Room 205 Air Temperature  VAV Box: Room 206 Air Temperature  \\\n",
       "0                              69.47                              70.09   \n",
       "1                              66.57                              67.71   \n",
       "2                              64.24                              65.58   \n",
       "3                              62.38                              63.79   \n",
       "4                              60.27                              61.78   \n",
       "\n",
       "   AverageRoomTemp  AverageRoomHumi  \n",
       "0         74.62790        50.830000  \n",
       "1         74.55256        50.973333  \n",
       "2         74.43922        51.076667  \n",
       "3         74.27986        51.173333  \n",
       "4         74.00950        50.926667  \n",
       "\n",
       "[5 rows x 47 columns]"
      ]
     },
     "execution_count": 79,
     "metadata": {},
     "output_type": "execute_result"
    }
   ],
   "source": [
    "# Checking the Top five observations of the Data\n",
    "df.head()"
   ]
  },
  {
   "cell_type": "code",
   "execution_count": 80,
   "metadata": {},
   "outputs": [
    {
     "name": "stdout",
     "output_type": "stream",
     "text": [
      "<class 'pandas.core.frame.DataFrame'>\n",
      "RangeIndex: 2610 entries, 0 to 2609\n",
      "Data columns (total 47 columns):\n",
      " #   Column                                       Non-Null Count  Dtype  \n",
      "---  ------                                       --------------  -----  \n",
      " 0   Timestamp                                    2610 non-null   object \n",
      " 1   RTU: Supply Air Temperature                  2610 non-null   float64\n",
      " 2   RTU: Return Air Temperature                  2610 non-null   float64\n",
      " 3   RTU: Circuit 1 Discharge Temperature         2610 non-null   float64\n",
      " 4   RTU: Circuit 1 Condenser Outlet Temperature  2610 non-null   float64\n",
      " 5   RTU: Circuit 1 Suction Temperature           2610 non-null   float64\n",
      " 6   RTU: Circuit 2 Discharge Temperature         2610 non-null   float64\n",
      " 7   RTU: Circuit 2 Suction Temperature           2610 non-null   float64\n",
      " 8   RTU: Circuit 1 Condenser Outlet Pressure     2610 non-null   float64\n",
      " 9   RTU: Circuit 1 Suction Pressure              2610 non-null   float64\n",
      " 10  RTU: Circuit 2 Discharge Pressure            2610 non-null   float64\n",
      " 11  RTU: Circuit 2 Suction Pressure              2610 non-null   float64\n",
      " 12  RTU: Supply Air Volumetric Flow Rate         2610 non-null   float64\n",
      " 13  RTU: Electricity                             2610 non-null   float64\n",
      " 14  RTU: Natural Gas                             2610 non-null   float64\n",
      " 15  Terminal: Room 102 Air Humidity              2610 non-null   float64\n",
      " 16  Terminal: Room 104 Air Humidity              2610 non-null   float64\n",
      " 17  Terminal: Room 106 Air Humidity              2610 non-null   float64\n",
      " 18  Terminal: Room 102 Air Temperature           2610 non-null   float64\n",
      " 19  Terminal: Room 103 Air Temperature           2610 non-null   float64\n",
      " 20  Terminal: Room 104 Air Temperature           2610 non-null   float64\n",
      " 21  Terminal: Room 105 Air Temperature           2610 non-null   float64\n",
      " 22  Terminal: Room 106 Air Temperature           2610 non-null   float64\n",
      " 23  Terminal: Room 202 Air Temperature           2610 non-null   float64\n",
      " 24  Terminal: Room 203 Air Temperature           2610 non-null   float64\n",
      " 25  Terminal: Room 204 Air Temperature           2610 non-null   float64\n",
      " 26  Terminal: Room 205 Air Temperature           2610 non-null   float64\n",
      " 27  Terminal: Room 206 Air Temperature           2610 non-null   float64\n",
      " 28  HVAC System: Electricity                     2610 non-null   float64\n",
      " 29  Lighting System: Electricity                 2610 non-null   float64\n",
      " 30  RTU: Compressor 2 On/Off Status              2610 non-null   int64  \n",
      " 31  VAV Box: Room 104 Reheat Status              2610 non-null   int64  \n",
      " 32  VAV Box: Room 203 Reheat Status              2610 non-null   int64  \n",
      " 33  VAV Box: Room 205 Reheat Status              2610 non-null   int64  \n",
      " 34  VAV Box: Room 206 Reheat Status              2610 non-null   int64  \n",
      " 35  VAV Box: Room 102 Air Temperature            2610 non-null   float64\n",
      " 36  VAV Box: Room 103 Air Temperature            2610 non-null   float64\n",
      " 37  VAV Box: Room 104 Air Temperature            2610 non-null   float64\n",
      " 38  VAV Box: Room 105 Air Temperature            2610 non-null   float64\n",
      " 39  VAV Box: Room 106 Air Temperature            2610 non-null   float64\n",
      " 40  VAV Box: Room 202 Air Temperature            2610 non-null   float64\n",
      " 41  VAV Box: Room 203 Air Temperature            2610 non-null   float64\n",
      " 42  VAV Box: Room 204 Air Temperature            2610 non-null   float64\n",
      " 43  VAV Box: Room 205 Air Temperature            2610 non-null   float64\n",
      " 44  VAV Box: Room 206 Air Temperature            2610 non-null   float64\n",
      " 45  AverageRoomTemp                              2610 non-null   float64\n",
      " 46  AverageRoomHumi                              2610 non-null   float64\n",
      "dtypes: float64(41), int64(5), object(1)\n",
      "memory usage: 958.5+ KB\n"
     ]
    }
   ],
   "source": [
    "# Checking basic information about the data\n",
    "df.info()"
   ]
  },
  {
   "cell_type": "code",
   "execution_count": 81,
   "metadata": {},
   "outputs": [
    {
     "data": {
      "text/plain": [
       "Timestamp                                      0\n",
       "RTU: Supply Air Temperature                    0\n",
       "RTU: Return Air Temperature                    0\n",
       "RTU: Circuit 1 Discharge Temperature           0\n",
       "RTU: Circuit 1 Condenser Outlet Temperature    0\n",
       "RTU: Circuit 1 Suction Temperature             0\n",
       "RTU: Circuit 2 Discharge Temperature           0\n",
       "RTU: Circuit 2 Suction Temperature             0\n",
       "RTU: Circuit 1 Condenser Outlet Pressure       0\n",
       "RTU: Circuit 1 Suction Pressure                0\n",
       "RTU: Circuit 2 Discharge Pressure              0\n",
       "RTU: Circuit 2 Suction Pressure                0\n",
       "RTU: Supply Air Volumetric Flow Rate           0\n",
       "RTU: Electricity                               0\n",
       "RTU: Natural Gas                               0\n",
       "Terminal: Room 102 Air Humidity                0\n",
       "Terminal: Room 104 Air Humidity                0\n",
       "Terminal: Room 106 Air Humidity                0\n",
       "Terminal: Room 102 Air Temperature             0\n",
       "Terminal: Room 103 Air Temperature             0\n",
       "Terminal: Room 104 Air Temperature             0\n",
       "Terminal: Room 105 Air Temperature             0\n",
       "Terminal: Room 106 Air Temperature             0\n",
       "Terminal: Room 202 Air Temperature             0\n",
       "Terminal: Room 203 Air Temperature             0\n",
       "Terminal: Room 204 Air Temperature             0\n",
       "Terminal: Room 205 Air Temperature             0\n",
       "Terminal: Room 206 Air Temperature             0\n",
       "HVAC System: Electricity                       0\n",
       "Lighting System: Electricity                   0\n",
       "RTU: Compressor 2 On/Off Status                0\n",
       "VAV Box: Room 104 Reheat Status                0\n",
       "VAV Box: Room 203 Reheat Status                0\n",
       "VAV Box: Room 205 Reheat Status                0\n",
       "VAV Box: Room 206 Reheat Status                0\n",
       "VAV Box: Room 102 Air Temperature              0\n",
       "VAV Box: Room 103 Air Temperature              0\n",
       "VAV Box: Room 104 Air Temperature              0\n",
       "VAV Box: Room 105 Air Temperature              0\n",
       "VAV Box: Room 106 Air Temperature              0\n",
       "VAV Box: Room 202 Air Temperature              0\n",
       "VAV Box: Room 203 Air Temperature              0\n",
       "VAV Box: Room 204 Air Temperature              0\n",
       "VAV Box: Room 205 Air Temperature              0\n",
       "VAV Box: Room 206 Air Temperature              0\n",
       "AverageRoomTemp                                0\n",
       "AverageRoomHumi                                0\n",
       "dtype: int64"
      ]
     },
     "execution_count": 81,
     "metadata": {},
     "output_type": "execute_result"
    }
   ],
   "source": [
    "# Checking for null values\n",
    "df.isnull().sum()"
   ]
  },
  {
   "cell_type": "code",
   "execution_count": 82,
   "metadata": {},
   "outputs": [],
   "source": [
    "# Droping Timestamp column\n",
    "df.drop(['Timestamp'],1, inplace = True)"
   ]
  },
  {
   "cell_type": "code",
   "execution_count": 83,
   "metadata": {},
   "outputs": [],
   "source": [
    "# Scaling the Data\n",
    "for i in df.columns:\n",
    "    df[i] = scaler.fit_transform(df[[i]])"
   ]
  },
  {
   "cell_type": "code",
   "execution_count": 84,
   "metadata": {},
   "outputs": [],
   "source": [
    "# Separating Dependent and Independent Variables\n",
    "y = df['HVAC System: Electricity']\n",
    "x = df.drop(['HVAC System: Electricity'], 1)"
   ]
  },
  {
   "cell_type": "code",
   "execution_count": 85,
   "metadata": {},
   "outputs": [],
   "source": [
    "# Separating Training and Testing data\n",
    "X_train, X_test, y_train, y_test = train_test_split(x,y, random_state=45, test_size=0.2)"
   ]
  },
  {
   "cell_type": "markdown",
   "metadata": {},
   "source": [
    "## Model Building"
   ]
  },
  {
   "cell_type": "markdown",
   "metadata": {},
   "source": [
    "#### Linear Regression"
   ]
  },
  {
   "cell_type": "code",
   "execution_count": 86,
   "metadata": {},
   "outputs": [],
   "source": [
    "linear = LinearRegression()"
   ]
  },
  {
   "cell_type": "code",
   "execution_count": 87,
   "metadata": {},
   "outputs": [
    {
     "data": {
      "text/plain": [
       "-0.07096158314277902"
      ]
     },
     "execution_count": 87,
     "metadata": {},
     "output_type": "execute_result"
    }
   ],
   "source": [
    "np.mean(cross_val_score(linear, X_train, y_train, scoring = 'neg_mean_absolute_error', cv= 3))"
   ]
  },
  {
   "cell_type": "markdown",
   "metadata": {},
   "source": [
    "#### Lasso Regression"
   ]
  },
  {
   "cell_type": "code",
   "execution_count": 88,
   "metadata": {},
   "outputs": [
    {
     "data": {
      "text/plain": [
       "-0.8407494719209039"
      ]
     },
     "execution_count": 88,
     "metadata": {},
     "output_type": "execute_result"
    }
   ],
   "source": [
    "lass = Lasso()\n",
    "lass.fit(X_train, y_train)\n",
    "np.mean(cross_val_score(lass, X_train, y_train, scoring = 'neg_mean_absolute_error', cv= 3))"
   ]
  },
  {
   "cell_type": "code",
   "execution_count": 114,
   "metadata": {},
   "outputs": [
    {
     "data": {
      "image/png": "[encoded data removed]",
      "text/plain": [
       "<Figure size 432x288 with 1 Axes>"
      ]
     },
     "metadata": {
      "needs_background": "light"
     },
     "output_type": "display_data"
    },
    {
     "data": {
      "text/html": [
       "<div>\n",
       "<style scoped>\n",
       "    .dataframe tbody tr th:only-of-type {\n",
       "        vertical-align: middle;\n",
       "    }\n",
       "\n",
       "    .dataframe tbody tr th {\n",
       "        vertical-align: top;\n",
       "    }\n",
       "\n",
       "    .dataframe thead th {\n",
       "        text-align: right;\n",
       "    }\n",
       "</style>\n",
       "<table border=\"1\" class=\"dataframe\">\n",
       "  <thead>\n",
       "    <tr style=\"text-align: right;\">\n",
       "      <th></th>\n",
       "      <th>alpha</th>\n",
       "      <th>error</th>\n",
       "    </tr>\n",
       "  </thead>\n",
       "  <tbody>\n",
       "    <tr>\n",
       "      <th>0</th>\n",
       "      <td>0.01</td>\n",
       "      <td>-0.08605</td>\n",
       "    </tr>\n",
       "  </tbody>\n",
       "</table>\n",
       "</div>"
      ],
      "text/plain": [
       "   alpha    error\n",
       "0   0.01 -0.08605"
      ]
     },
     "execution_count": 114,
     "metadata": {},
     "output_type": "execute_result"
    }
   ],
   "source": [
    "alpha = []\n",
    "error = []\n",
    "\n",
    "for i in range(1, 100):\n",
    "    alpha.append(i/100)\n",
    "    lm_la = Lasso(alpha = (i/100))\n",
    "    error.append(np.mean(cross_val_score(lm_la, X_train, y_train, scoring = 'neg_mean_absolute_error', cv= 3)))\n",
    "    \n",
    "plt.plot(alpha, error)\n",
    "plt.show()\n",
    "\n",
    "data = {'alpha':alpha, \"error\": error}\n",
    "fd = pd.DataFrame(data)\n",
    "fd[fd['error'] == fd['error'].max()]"
   ]
  },
  {
   "cell_type": "code",
   "execution_count": 111,
   "metadata": {},
   "outputs": [
    {
     "name": "stdout",
     "output_type": "stream",
     "text": [
      "0.09480500921591219\n"
     ]
    }
   ],
   "source": [
    "best_lass = Lasso(alpha = 0.01)\n",
    "best_lass.fit(X_train, y_train)\n",
    "best_lass_pred = best_lass.predict(X_test)\n",
    "print(mean_absolute_error(y_test, best_lass_pred))"
   ]
  },
  {
   "cell_type": "markdown",
   "metadata": {},
   "source": [
    "#### Random Forest Regressor"
   ]
  },
  {
   "cell_type": "code",
   "execution_count": 89,
   "metadata": {},
   "outputs": [
    {
     "data": {
      "text/plain": [
       "-0.06713512777671357"
      ]
     },
     "execution_count": 89,
     "metadata": {},
     "output_type": "execute_result"
    }
   ],
   "source": [
    "rf = RandomForestRegressor()\n",
    "np.mean(cross_val_score(rf, X_train, y_train, scoring = 'neg_mean_absolute_error', cv= 3))\n"
   ]
  },
  {
   "cell_type": "markdown",
   "metadata": {},
   "source": [
    "### Using GridSearchCV"
   ]
  },
  {
   "cell_type": "code",
   "execution_count": 90,
   "metadata": {},
   "outputs": [
    {
     "data": {
      "text/plain": [
       "GridSearchCV(cv=3, estimator=RandomForestRegressor(),\n",
       "             param_grid={'criterion': ('mse', 'mae'),\n",
       "                         'max_features': ('auto', 'sqrt', 'log2'),\n",
       "                         'n_estimators': range(10, 300, 10)},\n",
       "             scoring='neg_mean_absolute_error')"
      ]
     },
     "execution_count": 90,
     "metadata": {},
     "output_type": "execute_result"
    }
   ],
   "source": [
    "parameters = {'n_estimators':range(10,300,10), 'criterion':('mse','mae'), 'max_features':('auto','sqrt','log2')}\n",
    "\n",
    "gs = GridSearchCV(rf, parameters, scoring = 'neg_mean_absolute_error', cv = 3)\n",
    "gs.fit(X_train, y_train)"
   ]
  },
  {
   "cell_type": "code",
   "execution_count": 97,
   "metadata": {},
   "outputs": [
    {
     "name": "stdout",
     "output_type": "stream",
     "text": [
      "best score:  -0.06556796327728465\n",
      "best estimator/model:  RandomForestRegressor(criterion='mse', n_estimators=120)\n"
     ]
    }
   ],
   "source": [
    "# Getting the best Estimator\n",
    "print('best score: ',gs.best_score_)\n",
    "print('best estimator/model: ',gs.best_estimator_)\n",
    "best = gs.best_estimator_"
   ]
  },
  {
   "cell_type": "code",
   "execution_count": 100,
   "metadata": {},
   "outputs": [],
   "source": [
    "# Predicting the values of y_test\n",
    "y_pred = best.predict(X_test)"
   ]
  },
  {
   "cell_type": "markdown",
   "metadata": {},
   "source": [
    "#### Model Evaluation"
   ]
  },
  {
   "cell_type": "code",
   "execution_count": 113,
   "metadata": {},
   "outputs": [
    {
     "name": "stdout",
     "output_type": "stream",
     "text": [
      "0.06146472499614632\n"
     ]
    }
   ],
   "source": [
    "print(mean_absolute_error(y_test, y_pred))"
   ]
  },
  {
   "cell_type": "markdown",
   "metadata": {},
   "source": [
    "The RandomForestRegressor with GridSearchCV outperformed all other models.\n",
    "### *RandomForestRegressor Model 'best'* - **MAE: 0.06146472499614632**"
   ]
  }
 ],
 "metadata": {
  "kernelspec": {
   "display_name": "Python 3.9.12 ('base')",
   "language": "python",
   "name": "python3"
  },
  "language_info": {
   "codemirror_mode": {
    "name": "ipython",
    "version": 3
   },
   "file_extension": ".py",
   "mimetype": "text/x-python",
   "name": "python",
   "nbconvert_exporter": "python",
   "pygments_lexer": "ipython3",
   "version": "3.9.12"
  },
  "orig_nbformat": 4,
  "vscode": {
   "interpreter": {
    "hash": "eb2a71abdcbd08b2757e1330e9c1a0a14ae9fc462f00286eaffb35381aa5e722"
   }
  }
 },
 "nbformat": 4,
 "nbformat_minor": 2
}
